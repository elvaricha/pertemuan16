{
 "cells": [
  {
   "cell_type": "markdown",
   "metadata": {},
   "source": [
    "![title](img/header.png)"
   ]
  },
  {
   "cell_type": "markdown",
   "metadata": {},
   "source": [
    "## Reading a CSV File"
   ]
  },
  {
   "cell_type": "code",
   "execution_count": 1,
   "metadata": {},
   "outputs": [
    {
     "name": "stdout",
     "output_type": "stream",
     "text": [
      "   id    name  salary start_date        dept\n",
      "0   1    Rick  623.30   1/1/2012          IT\n",
      "1   2     Dan  515.20   23-09-13  Operations\n",
      "2   3   Tusar  611.00   15-11-14          IT\n",
      "3   4    Ryan  729.00  11/5/2014          HR\n",
      "4   5    Gary  843.25   27-03-15     Finance\n",
      "5   6   Rasmi  578.00   21-05-13          IT\n",
      "6   7  Pranab  632.80   30-07-13  Operations\n",
      "7   8    Guru  722.50   17-06-14     Finance\n"
     ]
    }
   ],
   "source": [
    "import pandas as pd\n",
    "data = pd.read_csv('input.csv')\n",
    "print(data)"
   ]
  },
  {
   "cell_type": "markdown",
   "metadata": {},
   "source": [
    "### Reading Specific Rows"
   ]
  },
  {
   "cell_type": "code",
   "execution_count": 2,
   "metadata": {
    "scrolled": true
   },
   "outputs": [
    {
     "name": "stdout",
     "output_type": "stream",
     "text": [
      "0    623.30\n",
      "1    515.20\n",
      "2    611.00\n",
      "3    729.00\n",
      "4    843.25\n",
      "Name: salary, dtype: float64\n"
     ]
    }
   ],
   "source": [
    "data = pd.read_csv('input.csv')\n",
    "\n",
    "#slice the result for first 5 rows\n",
    "print(data[:5]['salary'])"
   ]
  },
  {
   "cell_type": "markdown",
   "metadata": {},
   "source": [
    "### Reading Specific Columns"
   ]
  },
  {
   "cell_type": "code",
   "execution_count": 3,
   "metadata": {},
   "outputs": [
    {
     "name": "stdout",
     "output_type": "stream",
     "text": [
      "   salary    name\n",
      "0  623.30    Rick\n",
      "1  515.20     Dan\n",
      "2  611.00   Tusar\n",
      "3  729.00    Ryan\n",
      "4  843.25    Gary\n",
      "5  578.00   Rasmi\n",
      "6  632.80  Pranab\n",
      "7  722.50    Guru\n"
     ]
    }
   ],
   "source": [
    "data = pd.read_csv('input.csv')\n",
    "\n",
    "print(data.loc[:,['salary','name']])"
   ]
  },
  {
   "cell_type": "markdown",
   "metadata": {},
   "source": [
    "### Reading Specific Columns & Rows"
   ]
  },
  {
   "cell_type": "code",
   "execution_count": 4,
   "metadata": {},
   "outputs": [
    {
     "name": "stdout",
     "output_type": "stream",
     "text": [
      "   salary   name\n",
      "1   515.2    Dan\n",
      "3   729.0   Ryan\n",
      "5   578.0  Rasmi\n",
      "\n",
      "   salary    name\n",
      "2  611.00   Tusar\n",
      "3  729.00    Ryan\n",
      "4  843.25    Gary\n",
      "5  578.00   Rasmi\n",
      "6  632.80  Pranab\n"
     ]
    }
   ],
   "source": [
    "print(data.loc[[1,3,5],['salary','name']])\n",
    "\n",
    "print()\n",
    "\n",
    "print(data.loc[2:6,['salary','name']])"
   ]
  },
  {
   "cell_type": "markdown",
   "metadata": {},
   "source": [
    "## Processing JSON Data"
   ]
  },
  {
   "cell_type": "code",
   "execution_count": 5,
   "metadata": {},
   "outputs": [
    {
     "name": "stdout",
     "output_type": "stream",
     "text": [
      "         dept  id    name  salary start_date\n",
      "0          IT   1    Rick  623.30   1/1/2012\n",
      "1  Operations   2     Dan  515.20   23-09-13\n",
      "2          IT   3   Tusar  611.00   15-11-14\n",
      "3          HR   4    Ryan  729.00  11/5/2014\n",
      "4     Finance   5    Gary  843.25   27-03-15\n",
      "5          it   6   Rasmi  578.00   21-05-13\n",
      "6  Operations   7  Pranab  632.80   30-07-13\n",
      "7     Finance   8    Guru  722.50   17-06-14\n"
     ]
    }
   ],
   "source": [
    "data = pd.read_json('input.json')\n",
    "\n",
    "print(data)"
   ]
  },
  {
   "cell_type": "markdown",
   "metadata": {},
   "source": [
    "### Reading Specific Columns and Rows"
   ]
  },
  {
   "cell_type": "code",
   "execution_count": 6,
   "metadata": {},
   "outputs": [
    {
     "name": "stdout",
     "output_type": "stream",
     "text": [
      "   salary   name\n",
      "1   515.2    Dan\n",
      "3   729.0   Ryan\n",
      "5   578.0  Rasmi\n",
      "\n",
      "   salary    name\n",
      "2  611.00   Tusar\n",
      "3  729.00    Ryan\n",
      "4  843.25    Gary\n",
      "5  578.00   Rasmi\n",
      "6  632.80  Pranab\n"
     ]
    }
   ],
   "source": [
    "print(data.loc[[1,3,5],['salary','name']])\n",
    "\n",
    "print()\n",
    "\n",
    "print(data.loc[2:6,['salary','name']])"
   ]
  },
  {
   "cell_type": "markdown",
   "metadata": {},
   "source": [
    "### Reading to Json view"
   ]
  },
  {
   "cell_type": "code",
   "execution_count": 7,
   "metadata": {
    "scrolled": true
   },
   "outputs": [
    {
     "name": "stdout",
     "output_type": "stream",
     "text": [
      "{\"dept\":\"  IT\",\"id\":1,\"name\":\"Rick\",\"salary\":623.3,\"start_date\":\"1\\/1\\/2012\"}\n",
      "{\"dept\":\"Operations\",\"id\":2,\"name\":\"Dan\",\"salary\":515.2,\"start_date\":\"23-09-13\"}\n",
      "{\"dept\":\"IT\",\"id\":3,\"name\":\"Tusar\",\"salary\":611.0,\"start_date\":\"15-11-14\"}\n",
      "{\"dept\":\"HR\",\"id\":4,\"name\":\"Ryan\",\"salary\":729.0,\"start_date\":\"11\\/5\\/2014\"}\n",
      "{\"dept\":\"Finance\",\"id\":5,\"name\":\"Gary\",\"salary\":843.25,\"start_date\":\"27-03-15\"}\n",
      "{\"dept\":\"it\",\"id\":6,\"name\":\"Rasmi\",\"salary\":578.0,\"start_date\":\"21-05-13\"}\n",
      "{\"dept\":\"Operations\",\"id\":7,\"name\":\"Pranab\",\"salary\":632.8,\"start_date\":\"30-07-13\"}\n",
      "{\"dept\":\"Finance\",\"id\":8,\"name\":\"Guru\",\"salary\":722.5,\"start_date\":\"17-06-14\"}\n"
     ]
    }
   ],
   "source": [
    "print(data.to_json(orient='records',lines=True))"
   ]
  },
  {
   "cell_type": "markdown",
   "metadata": {},
   "source": [
    "### Processing Excel Data"
   ]
  },
  {
   "cell_type": "code",
   "execution_count": 8,
   "metadata": {},
   "outputs": [
    {
     "name": "stdout",
     "output_type": "stream",
     "text": [
      "      id    name  salary start_date        dept\n",
      "0      1    Rick  623.30 2012-01-01          IT\n",
      "1      2     Dan  515.20 2013-09-23  Operations\n",
      "2      3   Tusar  611.00 2014-11-15          IT\n",
      "3      4    Ryan  729.00 2014-11-05          HR\n",
      "4      5    Gary  843.25 2015-03-27     Finance\n",
      "5      6   Rasmi  578.00 2013-05-21          it\n",
      "6      7  Pranab  632.80 2013-07-30  Operations\n",
      "7      8    Guru  722.50 2014-06-17     Finance\n"
     ]
    }
   ],
   "source": [
    "data = pd.read_excel('input.xlsx')\n",
    "\n",
    "print(data)"
   ]
  },
  {
   "cell_type": "markdown",
   "metadata": {},
   "source": [
    "### Reading Specific Columns and Rows"
   ]
  },
  {
   "cell_type": "code",
   "execution_count": 9,
   "metadata": {},
   "outputs": [
    {
     "name": "stdout",
     "output_type": "stream",
     "text": [
      "   salary   name\n",
      "1   515.2    Dan\n",
      "3   729.0   Ryan\n",
      "5   578.0  Rasmi\n",
      "\n",
      "   salary    name\n",
      "2  611.00   Tusar\n",
      "3  729.00    Ryan\n",
      "4  843.25    Gary\n",
      "5  578.00   Rasmi\n",
      "6  632.80  Pranab\n"
     ]
    }
   ],
   "source": [
    "print(data.loc[[1,3,5],['salary','name']])\n",
    "\n",
    "print()\n",
    "\n",
    "print(data.loc[2:6,['salary','name']])"
   ]
  },
  {
   "cell_type": "markdown",
   "metadata": {},
   "source": [
    "### Reading Multiple Excel Sheets"
   ]
  },
  {
   "cell_type": "code",
   "execution_count": 10,
   "metadata": {
    "scrolled": true
   },
   "outputs": [
    {
     "name": "stdout",
     "output_type": "stream",
     "text": [
      "Hasil Sheet 1:\n",
      "0    623.30\n",
      "1    515.20\n",
      "2    611.00\n",
      "3    729.00\n",
      "4    843.25\n",
      "Name: salary, dtype: float64\n",
      "\n",
      "Hasil Sheet 2:\n",
      "0     857353\n",
      "1    8734345\n",
      "2    5345326\n",
      "3     893242\n",
      "4    3532352\n",
      "Name: zipcode, dtype: int64\n"
     ]
    }
   ],
   "source": [
    "with pd.ExcelFile('input.xlsx') as xls:\n",
    "    df1 = pd.read_excel(xls,'Sheet1')\n",
    "    df2 = pd.read_excel(xls,'Sheet2')\n",
    "    \n",
    "print(\"Hasil Sheet 1:\")\n",
    "print(df1[:5]['salary'])\n",
    "print()\n",
    "print(\"Hasil Sheet 2:\")\n",
    "print(df2[:5]['zipcode'])"
   ]
  },
  {
   "cell_type": "markdown",
   "metadata": {},
   "source": [
    "### Reading a CSV File as Relational DB"
   ]
  },
  {
   "cell_type": "code",
   "execution_count": 11,
   "metadata": {},
   "outputs": [
    {
     "name": "stdout",
     "output_type": "stream",
     "text": [
      "Hasil 1:\n",
      "   index  id    name  salary start_date        dept\n",
      "0      0   1    Rick  623.30   1/1/2012          IT\n",
      "1      1   2     Dan  515.20   23-09-13  Operations\n",
      "2      2   3   Tusar  611.00   15-11-14          IT\n",
      "3      3   4    Ryan  729.00  11/5/2014          HR\n",
      "4      4   5    Gary  843.25   27-03-15     Finance\n",
      "5      5   6   Rasmi  578.00   21-05-13          IT\n",
      "6      6   7  Pranab  632.80   30-07-13  Operations\n",
      "7      7   8    Guru  722.50   17-06-14     Finance\n",
      "\n",
      "Hasil 2:\n",
      "         dept  sum(salary)\n",
      "0     Finance      1565.75\n",
      "1          HR       729.00\n",
      "2          IT      1812.30\n",
      "3  Operations      1148.00\n"
     ]
    }
   ],
   "source": [
    "from sqlalchemy import create_engine\n",
    "data = pd.read_csv('input.csv')\n",
    "\n",
    "# create db engine\n",
    "engine = create_engine('sqlite:///:memory:')\n",
    "\n",
    "# store df as a table\n",
    "data.to_sql('data_table',engine)\n",
    "\n",
    "# coba Query 1\n",
    "res1 = pd.read_sql_query('SELECT * FROM data_table', engine)\n",
    "print('Hasil 1:')\n",
    "print(res1)\n",
    "print()\n",
    "\n",
    "# coba Query 2\n",
    "res2 = pd.read_sql_query('SELECT dept,sum(salary) FROM data_table group by dept', engine)\n",
    "print('Hasil 2:')\n",
    "print(res2)"
   ]
  },
  {
   "cell_type": "markdown",
   "metadata": {},
   "source": [
    "### Inserting Data to Relational Tables"
   ]
  },
  {
   "cell_type": "code",
   "execution_count": 12,
   "metadata": {},
   "outputs": [
    {
     "name": "stdout",
     "output_type": "stream",
     "text": [
      "   id        dept    name  salary start_date\n",
      "0   1          IT    Rick  623.30   1/1/2012\n",
      "1   2  Operations     Dan  515.20   23-09-13\n",
      "2   3          IT   Tusar  611.00   15-11-14\n",
      "3   4          HR    Ryan  729.00  11/5/2014\n",
      "4   5     Finance    Gary  843.25   27-03-15\n",
      "5   6          IT   Rasmi  578.00   21-05-13\n",
      "6   7  Operations  Pranab  632.80   30-07-13\n",
      "7   8     Finance    Guru  722.50   17-06-14\n",
      "8   9          IT    Ruby  711.20   27/03/27\n"
     ]
    }
   ],
   "source": [
    "from pandas.io import sql\n",
    "from sqlalchemy import create_engine\n",
    "data = pd.read_csv('input.csv')\n",
    "\n",
    "# create db engine\n",
    "engine = create_engine('sqlite:///:memory:')\n",
    "\n",
    "# store df as a table\n",
    "data.to_sql('data_table',engine)\n",
    "\n",
    "# coba insert data\n",
    "sql.execute('INSERT INTO data_table VALUES(?,?,?,?,?,?)', engine, params=['id',9,'Ruby',711.20,'27/03/27','IT'])\n",
    "\n",
    "# read from Relational table\n",
    "res = pd.read_sql_query('SELECT id,dept,name,salary,start_date FROM data_table', engine)\n",
    "print(res)"
   ]
  },
  {
   "cell_type": "markdown",
   "metadata": {},
   "source": [
    "#### Deleting Data to Relational Tables"
   ]
  },
  {
   "cell_type": "code",
   "execution_count": 13,
   "metadata": {},
   "outputs": [
    {
     "name": "stdout",
     "output_type": "stream",
     "text": [
      "   id        dept    name  salary start_date\n",
      "0   1          IT    Rick   623.3   1/1/2012\n",
      "1   2  Operations     Dan   515.2   23-09-13\n",
      "2   3          IT   Tusar   611.0   15-11-14\n",
      "3   4          HR    Ryan   729.0  11/5/2014\n",
      "4   6          IT   Rasmi   578.0   21-05-13\n",
      "5   7  Operations  Pranab   632.8   30-07-13\n",
      "6   8     Finance    Guru   722.5   17-06-14\n",
      "7   9          IT    Ruby   711.2   27/03/27\n"
     ]
    }
   ],
   "source": [
    "# coba delete data\n",
    "sql.execute('Delete from data_table where name=(?)', engine, params=[('Gary')])\n",
    "\n",
    "# read from Relational table\n",
    "res = pd.read_sql_query('SELECT id,dept,name,salary,start_date FROM data_table', engine)\n",
    "print(res)"
   ]
  },
  {
   "cell_type": "markdown",
   "metadata": {
    "collapsed": true
   },
   "source": [
    "![title](img/thumbs-up.png)"
   ]
  }
 ],
 "metadata": {
  "kernelspec": {
   "display_name": "Python 3",
   "language": "python",
   "name": "python3"
  },
  "language_info": {
   "codemirror_mode": {
    "name": "ipython",
    "version": 3
   },
   "file_extension": ".py",
   "mimetype": "text/x-python",
   "name": "python",
   "nbconvert_exporter": "python",
   "pygments_lexer": "ipython3",
   "version": "3.6.9"
  }
 },
 "nbformat": 4,
 "nbformat_minor": 2
}
